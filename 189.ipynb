{
 "cells": [
  {
   "cell_type": "code",
   "execution_count": null,
   "metadata": {},
   "outputs": [],
   "source": [
    "class Solution:\n",
    "    def rotate(self, nums: List[int], k: int) -> None:\n",
    "        \"\"\"\n",
    "        Do not return anything, modify nums in-place instead.\n",
    "        \"\"\"\n",
    "        for _ in range(k):\n",
    "    # Assuming you want to append and pop elements from the original List based on index\n",
    "            for i in range(k):\n",
    "                List.append(List[i])\n",
    "                List.pop(i)\n",
    "        # Adjust index due to the change in list length after popping\n",
    "                if i < len(List):\n",
    "                    break  # Break after modifying the list to avoid issues with changing list size\n",
    "\n",
    "\n",
    "# huivedhkhfvghjkj"
   ]
  }
 ],
 "metadata": {
  "language_info": {
   "name": "python"
  }
 },
 "nbformat": 4,
 "nbformat_minor": 2
}
